{
 "cells": [
  {
   "cell_type": "code",
   "execution_count": 26,
   "id": "d7c9b6b8-f021-4ee7-be5c-0c102bd104ee",
   "metadata": {},
   "outputs": [],
   "source": [
    "import os\n",
    "import shutil\n",
    "import pandas as pd\n",
    "\n",
    "df = pd.read_csv('preprocess/trec/train.csv')"
   ]
  },
  {
   "cell_type": "code",
   "execution_count": null,
   "id": "107898f5-9dd5-4010-b1db-ac42d6eceb27",
   "metadata": {},
   "outputs": [],
   "source": []
  },
  {
   "cell_type": "code",
   "execution_count": 28,
   "id": "7ac7685b-f767-4cf6-9986-15af019b5075",
   "metadata": {},
   "outputs": [
    {
     "name": "stdout",
     "output_type": "stream",
     "text": [
      "Processing complete. Train and test datasets (only your 20 classes) are saved in 'preprocess/dbpedia'.\n"
     ]
    }
   ],
   "source": [
    "import os\n",
    "import pandas as pd\n",
    "\n",
    "# Define the directory paths\n",
    "dbpedia_dir = 'dbpedia'\n",
    "preprocess_dbpedia_dir = 'preprocess/dbpedia'\n",
    "\n",
    "# Mapping of original file names to new file names\n",
    "file_mapping = {\n",
    "    'DBPEDIA_train.csv': 'train.csv',\n",
    "    'DBPEDIA_test.csv': 'test.csv',\n",
    "    'DBPEDIA_val.csv': 'val.csv'\n",
    "}\n",
    "\n",
    "# The exact label codes you printed out\n",
    "target_classes = [185, 166, 159, 57, 160, 168, 146, 198,\n",
    "                  123, 38, 1, 73, 36, 56, 54, 215,\n",
    "                  39, 128, 90, 171]\n",
    "\n",
    "# Initialize an empty DataFrame to accumulate samples\n",
    "df_accumulated = pd.DataFrame()\n",
    "\n",
    "# Iterate over the CSV files in the 'dbpedia' directory\n",
    "for original_file in file_mapping.keys():\n",
    "    file_path = os.path.join(dbpedia_dir, original_file)\n",
    "    \n",
    "    # Read the CSV file into a DataFrame\n",
    "    df = pd.read_csv(file_path)\n",
    "    \n",
    "    # Create a new 'label' column with integer values for each unique class in 'l3'\n",
    "    df['label'] = df['l3'].astype('category').cat.codes\n",
    "    \n",
    "    # Filter to only the target classes\n",
    "    df = df[df['label'].isin(target_classes)]\n",
    "    \n",
    "    # Accumulate samples from each file\n",
    "    df_accumulated = pd.concat([df_accumulated, df], ignore_index=True)\n",
    "\n",
    "# (Optional) Remap labels to 0..19 so your model sees contiguous classes\n",
    "df_accumulated['label'] = df_accumulated['label'].astype('category').cat.codes\n",
    "\n",
    "# Sample 100,000 examples from the accumulated DataFrame\n",
    "df_sampled = df_accumulated\n",
    "\n",
    "# Split into train and test sets (90:10)\n",
    "train_size = int(0.9 * len(df_sampled))\n",
    "train_df = df_sampled.iloc[:train_size].reset_index(drop=True)\n",
    "test_df  = df_sampled.iloc[train_size:].reset_index(drop=True)\n",
    "\n",
    "# Save the datasets\n",
    "os.makedirs(preprocess_dbpedia_dir, exist_ok=True)\n",
    "train_df.to_csv(os.path.join(preprocess_dbpedia_dir, 'train.csv'), index=False)\n",
    "test_df.to_csv(os.path.join(preprocess_dbpedia_dir, 'test.csv'), index=False)\n",
    "\n",
    "print(\"Processing complete. Train and test datasets (only your 20 classes) are saved in 'preprocess/dbpedia'.\")\n"
   ]
  },
  {
   "cell_type": "code",
   "execution_count": 32,
   "id": "062edf30-826b-4829-bae8-7c32308afc3a",
   "metadata": {},
   "outputs": [],
   "source": [
    "# train_df"
   ]
  },
  {
   "cell_type": "code",
   "execution_count": 34,
   "id": "19889e48-2a17-4645-9200-bd2b49d35fb0",
   "metadata": {},
   "outputs": [
    {
     "data": {
      "text/plain": [
       "20"
      ]
     },
     "execution_count": 34,
     "metadata": {},
     "output_type": "execute_result"
    }
   ],
   "source": [
    "len(test_df.label.value_counts())"
   ]
  },
  {
   "cell_type": "code",
   "execution_count": null,
   "id": "67d3334c-f1e0-432c-8581-c54cbfa4625c",
   "metadata": {},
   "outputs": [],
   "source": []
  },
  {
   "cell_type": "code",
   "execution_count": null,
   "id": "1e061560-1db3-4e48-9f0b-591f290a873b",
   "metadata": {},
   "outputs": [],
   "source": []
  },
  {
   "cell_type": "code",
   "execution_count": 27,
   "id": "f35f0f1a-ad00-47fc-b3f0-2671c0a00267",
   "metadata": {},
   "outputs": [
    {
     "data": {
      "text/plain": [
       "Index([4, 14, 7, 13, 12, 0, 8, 1, 9, 5], dtype='int64', name='label')"
      ]
     },
     "execution_count": 27,
     "metadata": {},
     "output_type": "execute_result"
    }
   ],
   "source": [
    "df.label.value_counts()[:10].keys()"
   ]
  },
  {
   "cell_type": "code",
   "execution_count": 50,
   "id": "daee4dd8-5192-4234-909c-30c01fb96b81",
   "metadata": {},
   "outputs": [
    {
     "data": {
      "text/html": [
       "<div>\n",
       "<style scoped>\n",
       "    .dataframe tbody tr th:only-of-type {\n",
       "        vertical-align: middle;\n",
       "    }\n",
       "\n",
       "    .dataframe tbody tr th {\n",
       "        vertical-align: top;\n",
       "    }\n",
       "\n",
       "    .dataframe thead th {\n",
       "        text-align: right;\n",
       "    }\n",
       "</style>\n",
       "<table border=\"1\" class=\"dataframe\">\n",
       "  <thead>\n",
       "    <tr style=\"text-align: right;\">\n",
       "      <th></th>\n",
       "      <th>label-coarse</th>\n",
       "      <th>label</th>\n",
       "      <th>text</th>\n",
       "    </tr>\n",
       "  </thead>\n",
       "  <tbody>\n",
       "    <tr>\n",
       "      <th>2470</th>\n",
       "      <td>1</td>\n",
       "      <td>46</td>\n",
       "      <td>What money was used by them ?</td>\n",
       "    </tr>\n",
       "    <tr>\n",
       "      <th>5436</th>\n",
       "      <td>1</td>\n",
       "      <td>46</td>\n",
       "      <td>What money was used here ?</td>\n",
       "    </tr>\n",
       "    <tr>\n",
       "      <th>5448</th>\n",
       "      <td>1</td>\n",
       "      <td>46</td>\n",
       "      <td>What type of currency is used in China ?</td>\n",
       "    </tr>\n",
       "    <tr>\n",
       "      <th>5451</th>\n",
       "      <td>1</td>\n",
       "      <td>46</td>\n",
       "      <td>What currency is used in Australia ?</td>\n",
       "    </tr>\n",
       "  </tbody>\n",
       "</table>\n",
       "</div>"
      ],
      "text/plain": [
       "      label-coarse  label                                      text\n",
       "2470             1     46             What money was used by them ?\n",
       "5436             1     46                What money was used here ?\n",
       "5448             1     46  What type of currency is used in China ?\n",
       "5451             1     46      What currency is used in Australia ?"
      ]
     },
     "execution_count": 50,
     "metadata": {},
     "output_type": "execute_result"
    }
   ],
   "source": [
    "df[df.label==46]"
   ]
  },
  {
   "cell_type": "code",
   "execution_count": 22,
   "id": "145601b2-0417-4280-bdbf-3106e88ad756",
   "metadata": {},
   "outputs": [],
   "source": [
    "from sklearn.datasets import fetch_20newsgroups\n",
    "\n",
    "newsgroups_train = fetch_20newsgroups(subset='train', shuffle=True, random_state=42)\n",
    "newsgroups_test = fetch_20newsgroups(subset='test', shuffle=True, random_state=42)"
   ]
  },
  {
   "cell_type": "code",
   "execution_count": 25,
   "id": "98fab597-1912-4248-bdac-e0dd2ba322db",
   "metadata": {},
   "outputs": [
    {
     "data": {
      "text/plain": [
       "['alt.atheism',\n",
       " 'comp.graphics',\n",
       " 'comp.os.ms-windows.misc',\n",
       " 'comp.sys.ibm.pc.hardware',\n",
       " 'comp.sys.mac.hardware',\n",
       " 'comp.windows.x',\n",
       " 'misc.forsale',\n",
       " 'rec.autos',\n",
       " 'rec.motorcycles',\n",
       " 'rec.sport.baseball',\n",
       " 'rec.sport.hockey',\n",
       " 'sci.crypt',\n",
       " 'sci.electronics',\n",
       " 'sci.med',\n",
       " 'sci.space',\n",
       " 'soc.religion.christian',\n",
       " 'talk.politics.guns',\n",
       " 'talk.politics.mideast',\n",
       " 'talk.politics.misc',\n",
       " 'talk.religion.misc']"
      ]
     },
     "execution_count": 25,
     "metadata": {},
     "output_type": "execute_result"
    }
   ],
   "source": [
    "newsgroups_train.target_names"
   ]
  },
  {
   "cell_type": "code",
   "execution_count": 3,
   "id": "17a059b1-1fdb-490b-8b5a-ce22b26c49ab",
   "metadata": {},
   "outputs": [],
   "source": [
    "from datasets import load_dataset\n",
    "import pandas as pd"
   ]
  },
  {
   "cell_type": "code",
   "execution_count": 4,
   "id": "e6295f05-ff90-4dc0-9f85-aa03bf26b84c",
   "metadata": {},
   "outputs": [],
   "source": [
    "data = load_dataset(\"trec\")"
   ]
  },
  {
   "cell_type": "code",
   "execution_count": 5,
   "id": "aac3426e-358d-4ba6-8de6-580367bdafda",
   "metadata": {},
   "outputs": [],
   "source": [
    "df = data['train'].to_pandas()"
   ]
  },
  {
   "cell_type": "code",
   "execution_count": 6,
   "id": "21988aaa-0123-43ba-a634-92cdb445d8d6",
   "metadata": {},
   "outputs": [
    {
     "data": {
      "text/plain": [
       "47"
      ]
     },
     "execution_count": 6,
     "metadata": {},
     "output_type": "execute_result"
    }
   ],
   "source": [
    "len(df['label-fine'].value_counts())"
   ]
  },
  {
   "cell_type": "code",
   "execution_count": 20,
   "id": "fbb74c34-bd32-43c9-8ef1-9c8c14008a43",
   "metadata": {},
   "outputs": [
    {
     "data": {
      "text/html": [
       "<div>\n",
       "<style scoped>\n",
       "    .dataframe tbody tr th:only-of-type {\n",
       "        vertical-align: middle;\n",
       "    }\n",
       "\n",
       "    .dataframe tbody tr th {\n",
       "        vertical-align: top;\n",
       "    }\n",
       "\n",
       "    .dataframe thead th {\n",
       "        text-align: right;\n",
       "    }\n",
       "</style>\n",
       "<table border=\"1\" class=\"dataframe\">\n",
       "  <thead>\n",
       "    <tr style=\"text-align: right;\">\n",
       "      <th></th>\n",
       "      <th>label-coarse</th>\n",
       "      <th>label-fine</th>\n",
       "      <th>text</th>\n",
       "    </tr>\n",
       "  </thead>\n",
       "  <tbody>\n",
       "    <tr>\n",
       "      <th>0</th>\n",
       "      <td>0</td>\n",
       "      <td>0</td>\n",
       "      <td>How did serfdom develop in and then leave Russ...</td>\n",
       "    </tr>\n",
       "    <tr>\n",
       "      <th>1</th>\n",
       "      <td>1</td>\n",
       "      <td>1</td>\n",
       "      <td>What films featured the character Popeye Doyle ?</td>\n",
       "    </tr>\n",
       "    <tr>\n",
       "      <th>2</th>\n",
       "      <td>0</td>\n",
       "      <td>0</td>\n",
       "      <td>How can I find a list of celebrities ' real na...</td>\n",
       "    </tr>\n",
       "    <tr>\n",
       "      <th>3</th>\n",
       "      <td>1</td>\n",
       "      <td>2</td>\n",
       "      <td>What fowl grabs the spotlight after the Chines...</td>\n",
       "    </tr>\n",
       "    <tr>\n",
       "      <th>4</th>\n",
       "      <td>2</td>\n",
       "      <td>3</td>\n",
       "      <td>What is the full form of .com ?</td>\n",
       "    </tr>\n",
       "    <tr>\n",
       "      <th>...</th>\n",
       "      <td>...</td>\n",
       "      <td>...</td>\n",
       "      <td>...</td>\n",
       "    </tr>\n",
       "    <tr>\n",
       "      <th>5447</th>\n",
       "      <td>1</td>\n",
       "      <td>14</td>\n",
       "      <td>What 's the shape of a camel 's spine ?</td>\n",
       "    </tr>\n",
       "    <tr>\n",
       "      <th>5448</th>\n",
       "      <td>1</td>\n",
       "      <td>46</td>\n",
       "      <td>What type of currency is used in China ?</td>\n",
       "    </tr>\n",
       "    <tr>\n",
       "      <th>5449</th>\n",
       "      <td>4</td>\n",
       "      <td>41</td>\n",
       "      <td>What is the temperature today ?</td>\n",
       "    </tr>\n",
       "    <tr>\n",
       "      <th>5450</th>\n",
       "      <td>4</td>\n",
       "      <td>41</td>\n",
       "      <td>What is the temperature for cooking ?</td>\n",
       "    </tr>\n",
       "    <tr>\n",
       "      <th>5451</th>\n",
       "      <td>1</td>\n",
       "      <td>46</td>\n",
       "      <td>What currency is used in Australia ?</td>\n",
       "    </tr>\n",
       "  </tbody>\n",
       "</table>\n",
       "<p>5452 rows × 3 columns</p>\n",
       "</div>"
      ],
      "text/plain": [
       "      label-coarse  label-fine  \\\n",
       "0                0           0   \n",
       "1                1           1   \n",
       "2                0           0   \n",
       "3                1           2   \n",
       "4                2           3   \n",
       "...            ...         ...   \n",
       "5447             1          14   \n",
       "5448             1          46   \n",
       "5449             4          41   \n",
       "5450             4          41   \n",
       "5451             1          46   \n",
       "\n",
       "                                                   text  \n",
       "0     How did serfdom develop in and then leave Russ...  \n",
       "1      What films featured the character Popeye Doyle ?  \n",
       "2     How can I find a list of celebrities ' real na...  \n",
       "3     What fowl grabs the spotlight after the Chines...  \n",
       "4                       What is the full form of .com ?  \n",
       "...                                                 ...  \n",
       "5447            What 's the shape of a camel 's spine ?  \n",
       "5448           What type of currency is used in China ?  \n",
       "5449                    What is the temperature today ?  \n",
       "5450              What is the temperature for cooking ?  \n",
       "5451               What currency is used in Australia ?  \n",
       "\n",
       "[5452 rows x 3 columns]"
      ]
     },
     "execution_count": 20,
     "metadata": {},
     "output_type": "execute_result"
    }
   ],
   "source": [
    "df\n",
    "    "
   ]
  },
  {
   "cell_type": "code",
   "execution_count": 19,
   "id": "9ddd1976-2566-46e0-8c9e-6aba26cb8172",
   "metadata": {},
   "outputs": [
    {
     "ename": "AttributeError",
     "evalue": "'Value' object has no attribute 'feature'",
     "output_type": "error",
     "traceback": [
      "\u001b[0;31m---------------------------------------------------------------------------\u001b[0m",
      "\u001b[0;31mAttributeError\u001b[0m                            Traceback (most recent call last)",
      "Cell \u001b[0;32mIn[19], line 3\u001b[0m\n\u001b[1;32m      1\u001b[0m feat \u001b[38;5;241m=\u001b[39m ds[\u001b[38;5;124m\"\u001b[39m\u001b[38;5;124mtrain\u001b[39m\u001b[38;5;124m\"\u001b[39m]\u001b[38;5;241m.\u001b[39mfeatures[\u001b[38;5;124m\"\u001b[39m\u001b[38;5;124mlabel-fine\u001b[39m\u001b[38;5;124m\"\u001b[39m]\n\u001b[1;32m      2\u001b[0m \u001b[38;5;66;03m# if feat is e.g. Sequence(feature=ClassLabel(...))\u001b[39;00m\n\u001b[0;32m----> 3\u001b[0m fine_names \u001b[38;5;241m=\u001b[39m \u001b[43mfeat\u001b[49m\u001b[38;5;241;43m.\u001b[39;49m\u001b[43mfeature\u001b[49m\u001b[38;5;241m.\u001b[39mnames  \n\u001b[1;32m      4\u001b[0m \u001b[38;5;28mprint\u001b[39m(fine_names)\n",
      "\u001b[0;31mAttributeError\u001b[0m: 'Value' object has no attribute 'feature'"
     ]
    }
   ],
   "source": [
    "feat = ds[\"train\"].features[\"label-fine\"]\n",
    "# if feat is e.g. Sequence(feature=ClassLabel(...))\n",
    "fine_names = feat.feature.names  \n",
    "print(fine_names)\n"
   ]
  },
  {
   "cell_type": "code",
   "execution_count": null,
   "id": "20f89da4-50cc-4730-b178-f08c15144c14",
   "metadata": {},
   "outputs": [],
   "source": []
  }
 ],
 "metadata": {
  "kernelspec": {
   "display_name": "llm_env2",
   "language": "python",
   "name": "llm_env2"
  },
  "language_info": {
   "codemirror_mode": {
    "name": "ipython",
    "version": 3
   },
   "file_extension": ".py",
   "mimetype": "text/x-python",
   "name": "python",
   "nbconvert_exporter": "python",
   "pygments_lexer": "ipython3",
   "version": "3.10.9"
  }
 },
 "nbformat": 4,
 "nbformat_minor": 5
}
